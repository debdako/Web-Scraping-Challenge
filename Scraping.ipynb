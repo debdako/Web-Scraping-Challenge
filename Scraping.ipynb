{
 "cells": [
  {
   "cell_type": "code",
   "execution_count": null,
   "id": "85e8daed-b33b-495e-bcac-7de76ffc4ae8",
   "metadata": {},
   "outputs": [],
   "source": [
    "# Add Dependencies (NASA Mars news)\n",
    "from bs4 import BeautifulSoup\n",
    "from splinter import Browser\n",
    "from selenium import webdriver\n",
    "import pandas as pd\n",
    "import time \n",
    "import requests"
   ]
  },
  {
   "cell_type": "code",
   "execution_count": null,
   "id": "d3a97ac6-12e3-472a-82cc-5f6123b816b5",
   "metadata": {},
   "outputs": [],
   "source": [
    "# import Splinter & set path\n",
    "executable_path = {'executable_path': 'chromedriver.exe'}\n",
    "browser = Browser('chrome', **executable_path, headless=False)"
   ]
  },
  {
   "cell_type": "code",
   "execution_count": null,
   "id": "5c3e0d74-9fbc-4a4b-bff4-62904b90e5ca",
   "metadata": {},
   "outputs": [],
   "source": [
    "# check url\n",
    "url = \"https://mars.nasa.gov/news/\"\n",
    "browser.visit(url)\n",
    "time.sleep(3)"
   ]
  },
  {
   "cell_type": "code",
   "execution_count": null,
   "id": "e1c1fad9-e8c2-42ee-9ec9-84d32ce967f5",
   "metadata": {},
   "outputs": [],
   "source": [
    "# html\n",
    "nasa_html = browser.html\n",
    "# parse html\n",
    "nasa_soup = BeautifulSoup(nasa_html, \"html.parser\")"
   ]
  },
  {
   "cell_type": "code",
   "execution_count": null,
   "id": "af722a58-b279-405d-81bf-88ceb07fcc95",
   "metadata": {},
   "outputs": [],
   "source": [
    "# title\n",
    "news_title = nasa_soup.find(\"div\", class_ = \"content_title\").text.strip()\n",
    "news_title"
   ]
  },
  {
   "cell_type": "code",
   "execution_count": null,
   "id": "db9bf420-36f8-49fe-847c-4dfe32800a92",
   "metadata": {},
   "outputs": [],
   "source": [
    "# paragraph text\n",
    "news_p = nasa_soup.find(\"div\", class_ = \"article_teaser_body\").text.strip()\n",
    "news_p"
   ]
  },
  {
   "cell_type": "code",
   "execution_count": null,
   "id": "839ab771-42a8-41ed-836d-107e07c73db7",
   "metadata": {},
   "outputs": [],
   "source": [
    "# variable to hold url\n",
    "executable_path = {'executable_path': 'chromedriver.exe'}\n",
    "browser = Browser('chrome', **executable_path, headless=False)\n",
    "jpl_url = \"https://www.jpl.nasa.gov/spaceimages/?search=&category=Mars\"\n",
    "browser.visit(jpl_url)"
   ]
  },
  {
   "cell_type": "code",
   "execution_count": null,
   "id": "2ad18b0a-0835-4977-baff-63976c6c4c52",
   "metadata": {},
   "outputs": [],
   "source": [
    "time.sleep(3)\n",
    "# Have splinter click full image button\n",
    "browser.click_link_by_partial_text(\"FULL IMAGE\")\n",
    "time.sleep(3)\n",
    "# splinter click more info button\n",
    "browser.click_link_by_partial_text(\"more info\")"
   ]
  },
  {
   "cell_type": "code",
   "execution_count": null,
   "id": "9a8765c7-bd30-4a36-bda7-8df55ea95944",
   "metadata": {},
   "outputs": [],
   "source": [
    "# html object\n",
    "featured_pg = browser.html\n",
    "# Create BeautifulSoup object and parse with html\n",
    "jpl_soup = BeautifulSoup(featured_pg, \"html.parser\")"
   ]
  },
  {
   "cell_type": "code",
   "execution_count": null,
   "id": "97086429-7521-4485-b791-81f8a6fecffa",
   "metadata": {},
   "outputs": [],
   "source": [
    "# featured image url\n",
    "featured_img = jpl_soup.find(\"figure\", class_ = \"lede\")\n",
    "featured_img_url =featured_img.a[\"href\"]\n",
    "featured_img_url = (\"https://www.jpl.nasa.gov\" + featured_img_url)\n",
    "featured_img_url"
   ]
  },
  {
   "cell_type": "code",
   "execution_count": null,
   "id": "abffa1fa-fc4b-4a82-8b14-e4a28350c6c4",
   "metadata": {},
   "outputs": [],
   "source": [
    "'https://www.jpl.nasa.gov/spaceimages/images/largesize/PIA19974_hires.jpg'\n"
   ]
  },
  {
   "cell_type": "code",
   "execution_count": null,
   "id": "c6dde5e2-dfa2-41a3-8be7-508bf8f3ac50",
   "metadata": {},
   "outputs": [],
   "source": [
    "# save the image\n",
    "import requests\n",
    "import shutil\n",
    "response = requests.get(featured_img_url, stream=True)\n",
    "with open('img_new.png', 'wb') as out_file:\n",
    "    shutil.copyfileobj(response.raw, out_file)"
   ]
  },
  {
   "cell_type": "code",
   "execution_count": null,
   "id": "b0bd5385-dbfe-4c8d-93a9-5a81a5ab8a43",
   "metadata": {},
   "outputs": [],
   "source": [
    "# Create variable to hold url (Mars Weather)\n",
    "executable_path = {'executable_path': 'chromedriver.exe'}\n",
    "browser = Browser('chrome', **executable_path, headless=False)\n",
    "tweet_url = \"https://twitter.com/marswxreport?lang=en\"\n",
    "browser.visit(tweet_url)"
   ]
  },
  {
   "cell_type": "code",
   "execution_count": null,
   "id": "cf4d50c2-8eb8-4acc-89ee-f7fe2a263612",
   "metadata": {},
   "outputs": [],
   "source": [
    "time.sleep(3)\n",
    "# Create HTML object\n",
    "tweet_mars_html = browser.html\n",
    "# Create BeautifulSoup object and parse with HTML parser\n",
    "tweet_mars_soup = BeautifulSoup(tweet_mars_html, \"html.parser\")"
   ]
  },
  {
   "cell_type": "code",
   "execution_count": null,
   "id": "da3d9918-d779-489f-a628-cfa67ffa0fde",
   "metadata": {},
   "outputs": [],
   "source": [
    "# get tweet text for weather report (tweet mars soup)\n",
    "tweets = tweet_mars_soup.find_all(\"p\")\n",
    "for tweet in tweets:\n",
    "# if the tweet contains \"Sol\" we know it is a tweet about weather\n",
    "   if 'Sol' in tweet.text:\n",
    "       mars_weather = tweet.text\n",
    "       break"
   ]
  },
  {
   "cell_type": "code",
   "execution_count": null,
   "id": "8d867667-1c86-41e8-892b-66c4dbfe87f0",
   "metadata": {},
   "outputs": [],
   "source": [
    "# mars weather\n",
    "'Sol 2171 (2018-09-14), high -12C/10F, low -65C/-84F, pressure at 8.79 hPa, daylight 05:43-17:59'\n"
   ]
  },
  {
   "cell_type": "code",
   "execution_count": null,
   "id": "e43e706f-56e8-4a09-88c3-c8ce2ab00d8f",
   "metadata": {},
   "outputs": [],
   "source": [
    "# Create variable to hold url (mars fact)\n",
    "executable_path = {'executable_path': 'chromedriver.exe'}\n",
    "browser = Browser('chrome', **executable_path, headless=False)\n",
    "mars_fact_url = \"https://space-facts.com/mars/\"\n",
    "browser.visit(mars_fact_url)"
   ]
  },
  {
   "cell_type": "code",
   "execution_count": null,
   "id": "b27d1d39-6b8d-40ac-a8ea-c700de6a13f0",
   "metadata": {},
   "outputs": [],
   "source": [
    "tables = pd.read_html(mars_fact_url)\n",
    "len(tables)"
   ]
  },
  {
   "cell_type": "code",
   "execution_count": null,
   "id": "71ada820-a559-455b-8b37-2f43e0127b98",
   "metadata": {},
   "outputs": [],
   "source": [
    "1"
   ]
  },
  {
   "cell_type": "code",
   "execution_count": null,
   "id": "d4c397a9-d4d7-4b06-b4e9-db874f0b42f6",
   "metadata": {},
   "outputs": [],
   "source": [
    "tables[0]"
   ]
  },
  {
   "cell_type": "code",
   "execution_count": null,
   "id": "35c5270c-7ad3-4170-b53c-ed23f5f1110b",
   "metadata": {},
   "outputs": [],
   "source": [
    "facts_df = tables[0]\n",
    "facts_df.columns = [\"Description\", \"Values\"]\n",
    "facts_df.set_index(\"Description\", inplace = True)\n",
    "facts_df"
   ]
  },
  {
   "cell_type": "code",
   "execution_count": null,
   "id": "8fe78a59-4308-4d81-bf0b-5bbf77e18a06",
   "metadata": {},
   "outputs": [],
   "source": [
    "facts_table = facts_df.to_html()\n",
    "facts_table"
   ]
  },
  {
   "cell_type": "code",
   "execution_count": null,
   "id": "3fdf7d7a-ec20-41f7-851e-fb9870d8d912",
   "metadata": {},
   "outputs": [],
   "source": [
    "mars_facts_table = facts_table.replace(\"\\n\", \"\")\n",
    "mars_facts_table"
   ]
  },
  {
   "cell_type": "code",
   "execution_count": 4,
   "id": "061682ab-2655-438d-8954-6f3ebe18a9d1",
   "metadata": {},
   "outputs": [
    {
     "data": {
      "text/plain": [
       "'<table border=\"1\" class=\"dataframe\">  <thead>    <tr style=\"text-align: right;\">      <th></th>      <th>Values</th>    </tr>    <tr>      <th>Description</th>      <th></th>    </tr>  </thead>  <tbody>    <tr>      <th>Equatorial Diameter:</th>      <td>6,792 km</td>    </tr>    <tr>      <th>Polar Diameter:</th>      <td>6,752 km</td>    </tr>    <tr>      <th>Mass:</th>      <td>6.42 x 10^23 kg (10.7% Earth)</td>    </tr>    <tr>      <th>Moons:</th>      <td>2 (Phobos &amp; Deimos)</td>    </tr>    <tr>      <th>Orbit Distance:</th>      <td>227,943,824 km (1.52 AU)</td>    </tr>    <tr>      <th>Orbit Period:</th>      <td>687 days (1.9 years)</td>    </tr>    <tr>      <th>Surface Temperature:</th>      <td>-153 to 20 °C</td>    </tr>    <tr>      <th>First Record:</th>      <td>2nd millennium BC</td>    </tr>    <tr>      <th>Recorded By:</th>      <td>Egyptian astronomers</td>    </tr>  </tbody></table>'"
      ]
     },
     "execution_count": 4,
     "metadata": {},
     "output_type": "execute_result"
    }
   ],
   "source": []
  },
  {
   "cell_type": "code",
   "execution_count": null,
   "id": "986bb40a-f5bd-45a5-9a1f-035c6b269534",
   "metadata": {},
   "outputs": [],
   "source": [
    "#convert the data to html table \n",
    "facts_html = facts_df.to_html(\"facts_table.html\")"
   ]
  },
  {
   "cell_type": "code",
   "execution_count": null,
   "id": "3642a1ea-1943-4f01-a2b8-6972be0af315",
   "metadata": {},
   "outputs": [],
   "source": [
    "# variable to hold url (mars hemispheres)\n",
    "executable_path = {'executable_path': 'chromedriver.exe'}\n",
    "browser = Browser('chrome', **executable_path, headless=False)\n",
    "usgs_url = \"https://astrogeology.usgs.gov/search/results?q=hemisphere+enhanced&k1=target&v1=Mars\"\n",
    "browser.visit(usgs_url)\n",
    "time.sleep(3)"
   ]
  },
  {
   "cell_type": "code",
   "execution_count": null,
   "id": "0e1ef98e-7490-445f-8183-1b8e2a59970f",
   "metadata": {},
   "outputs": [],
   "source": [
    "# html object\n",
    "usgs_html = browser.html\n",
    "# Create BeautifulSoup object and parse with HTML parser\n",
    "usgs_html_soup = BeautifulSoup(usgs_html, \"html.parser\")"
   ]
  },
  {
   "cell_type": "code",
   "execution_count": null,
   "id": "9576ee97-77eb-412c-b105-68f9c26190f2",
   "metadata": {},
   "outputs": [],
   "source": [
    "#Finding all the four hemispheres\n",
    "results = usgs_html_soup.find_all(\"h3\")\n",
    "results"
   ]
  },
  {
   "cell_type": "code",
   "execution_count": null,
   "id": "8a8531be-5a07-4332-a042-222053f3cc6b",
   "metadata": {},
   "outputs": [],
   "source": [
    "[<h3>Cerberus Hemisphere Enhanced</h3>,\n",
    " <h3>Schiaparelli Hemisphere Enhanced</h3>,\n",
    " <h3>Syrtis Major Hemisphere Enhanced</h3>,\n",
    " <h3>Valles Marineris Hemisphere Enhanced</h3>]"
   ]
  },
  {
   "cell_type": "code",
   "execution_count": null,
   "id": "4ceaf616-9afb-46b7-a91b-b41805e522ce",
   "metadata": {},
   "outputs": [],
   "source": [
    "# empty dictionaries and list\n",
    "hemisphere_img_urls = []\n",
    "hemisphere_dicts = {\"title\": [] , \"img_url\": []}"
   ]
  },
  {
   "cell_type": "code",
   "execution_count": null,
   "id": "52421e3c-5853-4715-8753-f9c734409876",
   "metadata": {},
   "outputs": [],
   "source": [
    "# Use loop and splinter to open hemisphere links in order to get parse title and image urls\n",
    "# Loop through each result\n",
    "for result in results:\n",
    "    # Get text info from result\n",
    "    title = result.text\n",
    "    browser.click_link_by_partial_text(title)\n",
    "    time.sleep(1)\n",
    "    img_url = browser.find_link_by_partial_href(\"download\")[\"href\"]\n",
    "    hemisphere_dicts = {\"title\": title, \"img_url\": img_url}\n",
    "    hemisphere_img_urls.append(hemisphere_dicts)\n",
    "    time.sleep(1)\n",
    "    browser.visit(usgs_url)"
   ]
  },
  {
   "cell_type": "code",
   "execution_count": null,
   "id": "76d0950a-5129-473d-af1e-a4f2bc6b8cb9",
   "metadata": {},
   "outputs": [],
   "source": [
    "print(hemisphere_img_urls)"
   ]
  },
  {
   "cell_type": "code",
   "execution_count": 5,
   "id": "533ba36f-4b7b-4ef1-83af-8c493adec260",
   "metadata": {},
   "outputs": [
    {
     "data": {
      "text/plain": [
       "[{'title': 'Cerberus Hemisphere Enhanced',\n",
       "  'img_url': 'http://astropedia.astrogeology.usgs.gov/download/Mars/Viking/cerberus_enhanced.tif/full.jpg'},\n",
       " {'title': 'Schiaparelli Hemisphere Enhanced',\n",
       "  'img_url': 'http://astropedia.astrogeology.usgs.gov/download/Mars/Viking/schiaparelli_enhanced.tif/full.jpg'},\n",
       " {'title': 'Syrtis Major Hemisphere Enhanced',\n",
       "  'img_url': 'http://astropedia.astrogeology.usgs.gov/download/Mars/Viking/syrtis_major_enhanced.tif/full.jpg'},\n",
       " {'title': 'Valles Marineris Hemisphere Enhanced',\n",
       "  'img_url': 'http://astropedia.astrogeology.usgs.gov/download/Mars/Viking/valles_marineris_enhanced.tif/full.jpg'}]"
      ]
     },
     "execution_count": 5,
     "metadata": {},
     "output_type": "execute_result"
    }
   ],
   "source": []
  },
  {
   "cell_type": "code",
   "execution_count": null,
   "id": "a18aff06-0477-4c8f-bfa9-a514935de131",
   "metadata": {},
   "outputs": [],
   "source": [
    "hemisphere_img_urls"
   ]
  },
  {
   "cell_type": "code",
   "execution_count": 6,
   "id": "a8138e55-8459-47a0-9cb4-ecef199121b5",
   "metadata": {},
   "outputs": [
    {
     "data": {
      "text/plain": [
       "[{'title': 'Cerberus Hemisphere Enhanced',\n",
       "  'img_url': 'http://astropedia.astrogeology.usgs.gov/download/Mars/Viking/cerberus_enhanced.tif/full.jpg'},\n",
       " {'title': 'Schiaparelli Hemisphere Enhanced',\n",
       "  'img_url': 'http://astropedia.astrogeology.usgs.gov/download/Mars/Viking/schiaparelli_enhanced.tif/full.jpg'},\n",
       " {'title': 'Syrtis Major Hemisphere Enhanced',\n",
       "  'img_url': 'http://astropedia.astrogeology.usgs.gov/download/Mars/Viking/syrtis_major_enhanced.tif/full.jpg'},\n",
       " {'title': 'Valles Marineris Hemisphere Enhanced',\n",
       "  'img_url': 'http://astropedia.astrogeology.usgs.gov/download/Mars/Viking/valles_marineris_enhanced.tif/full.jpg'}]"
      ]
     },
     "execution_count": 6,
     "metadata": {},
     "output_type": "execute_result"
    }
   ],
   "source": []
  },
  {
   "cell_type": "code",
   "execution_count": null,
   "id": "a8d2caa1-ba9e-40d9-bd91-c8e9a5ecf719",
   "metadata": {},
   "outputs": [],
   "source": []
  }
 ],
 "metadata": {
  "kernelspec": {
   "display_name": "Python 3 (ipykernel)",
   "language": "python",
   "name": "python3"
  },
  "language_info": {
   "codemirror_mode": {
    "name": "ipython",
    "version": 3
   },
   "file_extension": ".py",
   "mimetype": "text/x-python",
   "name": "python",
   "nbconvert_exporter": "python",
   "pygments_lexer": "ipython3",
   "version": "3.9.12"
  }
 },
 "nbformat": 4,
 "nbformat_minor": 5
}
